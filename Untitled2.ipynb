{
  "nbformat": 4,
  "nbformat_minor": 0,
  "metadata": {
    "colab": {
      "provenance": []
    },
    "kernelspec": {
      "name": "python3",
      "display_name": "Python 3"
    },
    "language_info": {
      "name": "python"
    }
  },
  "cells": [
    {
      "cell_type": "code",
      "execution_count": null,
      "metadata": {
        "colab": {
          "base_uri": "https://localhost:8080/"
        },
        "id": "SWwEsQK9cZ3y",
        "outputId": "2befec5b-4c79-4ac3-fce8-98300930fa2b"
      },
      "outputs": [
        {
          "name": "stdout",
          "output_type": "stream",
          "text": [
            " -> yjk\n"
          ]
        }
      ],
      "source": [
        "import socket\n",
        "\n",
        "\n",
        "def client_program():\n",
        "    host = socket.gethostname()  # as both code is running on same pc\n",
        "    port = 5000  # socket server port number\n",
        "\n",
        "    client_socket = socket.socket()  # instantiate\n",
        "    client_socket.connect((host, port))  # connect to the server\n",
        "\n",
        "    message = input(\" -> \")  # take input\n",
        "\n",
        "    while message.lower().strip() != 'bye':\n",
        "        client_socket.send(message.encode())  # send message\n",
        "        data = client_socket.recv(1024).decode()  # receive response\n",
        "\n",
        "        print('Received from server: ' + data)  # show in terminal\n",
        "\n",
        "        message = input(\" -> \")  # again take input\n",
        "\n",
        "    client_socket.close()  # close the connection\n",
        "\n",
        "\n",
        "if __name__ == '__main__':\n",
        "    client_program()"
      ]
    },
    {
      "cell_type": "code",
      "source": [
        "import socket\n",
        "\n",
        "\n",
        "def server_program():\n",
        "    # get the hostname\n",
        "    host = socket.gethostname()\n",
        "    port = 5000  # initiate port no above 1024\n",
        "\n",
        "    server_socket = socket.socket()  # get instance\n",
        "    # look closely. The bind() function takes tuple as argument\n",
        "    server_socket.bind((host, port))  # bind host address and port together\n",
        "\n",
        "    # configure how many client the server can listen simultaneously\n",
        "    server_socket.listen(2)\n",
        "    conn, address = server_socket.accept()  # accept new connection\n",
        "    print(\"Connection from: \" + str(address))\n",
        "    while True:\n",
        "        # receive data stream. it won't accept data packet greater than 1024 bytes\n",
        "        data = conn.recv(1024).decode()\n",
        "        if not data:\n",
        "            # if data is not received break\n",
        "            break\n",
        "        print(\"from connected user: \" + str(data))\n",
        "        data = input(' -> ')\n",
        "        conn.send(data.encode())  # send data to the client\n",
        "\n",
        "    conn.close()  # close the connection\n",
        "\n",
        "\n",
        "if __name__ == '__main__':\n",
        "    server_program()"
      ],
      "metadata": {
        "colab": {
          "base_uri": "https://localhost:8080/",
          "height": 297
        },
        "id": "kg5drcF_iRO8",
        "outputId": "3a06bfbf-ee56-43ad-a061-6ffdbb45446d"
      },
      "execution_count": null,
      "outputs": [
        {
          "output_type": "error",
          "ename": "OSError",
          "evalue": "[Errno 98] Address already in use",
          "traceback": [
            "\u001b[0;31m---------------------------------------------------------------------------\u001b[0m",
            "\u001b[0;31mOSError\u001b[0m                                   Traceback (most recent call last)",
            "\u001b[0;32m<ipython-input-2-17136494f514>\u001b[0m in \u001b[0;36m<cell line: 30>\u001b[0;34m()\u001b[0m\n\u001b[1;32m     29\u001b[0m \u001b[0;34m\u001b[0m\u001b[0m\n\u001b[1;32m     30\u001b[0m \u001b[0;32mif\u001b[0m \u001b[0m__name__\u001b[0m \u001b[0;34m==\u001b[0m \u001b[0;34m'__main__'\u001b[0m\u001b[0;34m:\u001b[0m\u001b[0;34m\u001b[0m\u001b[0;34m\u001b[0m\u001b[0m\n\u001b[0;32m---> 31\u001b[0;31m     \u001b[0mserver_program\u001b[0m\u001b[0;34m(\u001b[0m\u001b[0;34m)\u001b[0m\u001b[0;34m\u001b[0m\u001b[0;34m\u001b[0m\u001b[0m\n\u001b[0m",
            "\u001b[0;32m<ipython-input-2-17136494f514>\u001b[0m in \u001b[0;36mserver_program\u001b[0;34m()\u001b[0m\n\u001b[1;32m      9\u001b[0m     \u001b[0mserver_socket\u001b[0m \u001b[0;34m=\u001b[0m \u001b[0msocket\u001b[0m\u001b[0;34m.\u001b[0m\u001b[0msocket\u001b[0m\u001b[0;34m(\u001b[0m\u001b[0;34m)\u001b[0m  \u001b[0;31m# get instance\u001b[0m\u001b[0;34m\u001b[0m\u001b[0;34m\u001b[0m\u001b[0m\n\u001b[1;32m     10\u001b[0m     \u001b[0;31m# look closely. The bind() function takes tuple as argument\u001b[0m\u001b[0;34m\u001b[0m\u001b[0;34m\u001b[0m\u001b[0m\n\u001b[0;32m---> 11\u001b[0;31m     \u001b[0mserver_socket\u001b[0m\u001b[0;34m.\u001b[0m\u001b[0mbind\u001b[0m\u001b[0;34m(\u001b[0m\u001b[0;34m(\u001b[0m\u001b[0mhost\u001b[0m\u001b[0;34m,\u001b[0m \u001b[0mport\u001b[0m\u001b[0;34m)\u001b[0m\u001b[0;34m)\u001b[0m  \u001b[0;31m# bind host address and port together\u001b[0m\u001b[0;34m\u001b[0m\u001b[0;34m\u001b[0m\u001b[0m\n\u001b[0m\u001b[1;32m     12\u001b[0m \u001b[0;34m\u001b[0m\u001b[0m\n\u001b[1;32m     13\u001b[0m     \u001b[0;31m# configure how many client the server can listen simultaneously\u001b[0m\u001b[0;34m\u001b[0m\u001b[0;34m\u001b[0m\u001b[0m\n",
            "\u001b[0;31mOSError\u001b[0m: [Errno 98] Address already in use"
          ]
        }
      ]
    }
  ]
}